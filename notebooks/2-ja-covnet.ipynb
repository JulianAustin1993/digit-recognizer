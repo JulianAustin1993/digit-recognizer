{
 "cells": [
  {
   "attachments": {},
   "cell_type": "markdown",
   "metadata": {},
   "source": [
    "# Covolutional Neural Network"
   ]
  },
  {
   "cell_type": "code",
   "execution_count": 1,
   "metadata": {},
   "outputs": [
    {
     "name": "stderr",
     "output_type": "stream",
     "text": [
      "/Users/b7064522/opt/miniconda3/envs/drenv/lib/python3.10/site-packages/tqdm/auto.py:22: TqdmWarning: IProgress not found. Please update jupyter and ipywidgets. See https://ipywidgets.readthedocs.io/en/stable/user_install.html\n",
      "  from .autonotebook import tqdm as notebook_tqdm\n"
     ]
    }
   ],
   "source": [
    "import os\n",
    "import sys\n",
    "from pathlib import Path\n",
    "sys.path.append(\"../\")\n",
    "from dotenv import find_dotenv, load_dotenv\n",
    "from torch.utils.data import DataLoader\n",
    "from torchvision.utils import make_grid\n",
    "import torchvision.transforms as T\n",
    "import torch.nn as nn\n",
    "from torch.utils.data import random_split\n",
    "import torch\n",
    "import torch.nn.functional as F\n",
    "import torch.optim as optim\n",
    "from torch.utils.tensorboard.writer import SummaryWriter\n",
    "\n",
    "import logging\n",
    "logger = logging.getLogger()\n",
    "fhandler = logging.FileHandler(filename='mylog.log', mode='a')\n",
    "formatter = logging.Formatter('%(asctime)s - %(name)s - %(levelname)s - %(message)s')\n",
    "fhandler.setFormatter(formatter)\n",
    "logger.addHandler(fhandler)\n",
    "logger.setLevel(logging.INFO)\n",
    "logger.info(\"Setting up logging...\")\n",
    "\n",
    "\n",
    "from src.utils import CustomMnistDataset, imshow, create_validation_metrics, train_covnet\n",
    "\n",
    "load_dotenv(find_dotenv())\n",
    "\n",
    "DATA_DIR= os.getenv('DATA_DIR')\n",
    "SEED = int(os.getenv('SEED')) #type: ignore\n",
    "TENSORBOARD_DIR = os.getenv('TENSORBOARD_DIR')"
   ]
  },
  {
   "cell_type": "code",
   "execution_count": 2,
   "metadata": {},
   "outputs": [],
   "source": [
    "augmentor = nn.Sequential(\n",
    "    T.RandomAffine(degrees = 22.5, translate = (0.2, 0.2), scale = (0.5, 1))\n",
    ")\n",
    "dataset = CustomMnistDataset(img_dir = DATA_DIR, train=True, transform=augmentor)\n",
    "train_dataset, val_dataset = random_split(\n",
    "    dataset,\n",
    "    [0.75, 0.25],\n",
    "    generator=torch.Generator().manual_seed(SEED)\n",
    "    )\n"
   ]
  },
  {
   "cell_type": "code",
   "execution_count": 3,
   "metadata": {},
   "outputs": [],
   "source": [
    "BATCH_SIZE = 10\n",
    "SHUFFLE = True\n",
    "EPOCHS = 10\n",
    "train_dataloader = DataLoader(train_dataset, batch_size = BATCH_SIZE, shuffle = SHUFFLE)\n",
    "val_dataloader = DataLoader(val_dataset, batch_size = BATCH_SIZE, shuffle = SHUFFLE)\n"
   ]
  },
  {
   "attachments": {},
   "cell_type": "markdown",
   "metadata": {},
   "source": [
    "## 784 - **[24C5-P2S2]** - 256 - 10"
   ]
  },
  {
   "cell_type": "code",
   "execution_count": 4,
   "metadata": {},
   "outputs": [],
   "source": [
    "class Net(nn.Module):\n",
    "    def __init__(self):\n",
    "        super().__init__()\n",
    "        self.conv1 = nn.Conv2d(1, 24, 5) # (24, 24, 24)\n",
    "        self.pool = nn.MaxPool2d(2, 2) # (24, 12, 12)\n",
    "        self.fc1 = nn.Linear(24 * 12 * 12, 256)\n",
    "        self.fc2 = nn.Linear(256, 10)\n",
    "\n",
    "    def forward(self, x):\n",
    "        x = self.pool(F.relu(self.conv1(x)))\n",
    "        x = torch.flatten(x, 1) # flatten all dimensions except batch\n",
    "        x = F.relu(self.fc1(x))\n",
    "        x = self.fc2(x)\n",
    "        return x\n"
   ]
  },
  {
   "cell_type": "code",
   "execution_count": 5,
   "metadata": {},
   "outputs": [],
   "source": [
    "train_dict = train_covnet(\n",
    "    net = Net(),\n",
    "    dataloader = train_dataloader,\n",
    "    epochs = EPOCHS,\n",
    "    optimizer_wrapper = lambda x: optim.Adam(x, lr=0.001),\n",
    "    criterion = nn.CrossEntropyLoss(),\n",
    "    writer = SummaryWriter(Path(TENSORBOARD_DIR, 'exp1')), #type; ignore\n",
    "    val_dataloader = val_dataloader\n",
    ")"
   ]
  },
  {
   "attachments": {},
   "cell_type": "markdown",
   "metadata": {},
   "source": [
    "### Plotting examples"
   ]
  },
  {
   "cell_type": "code",
   "execution_count": 6,
   "metadata": {},
   "outputs": [
    {
     "data": {
      "image/png": "[encoded data removed]",
      "text/plain": [
       "<Figure size 640x480 with 1 Axes>"
      ]
     },
     "metadata": {},
     "output_type": "display_data"
    }
   ],
   "source": [
    "inputs, classes = next(iter(train_dataloader))\n",
    "outputs = train_dict.get('model')(inputs) #type: ignore\n",
    "_, predicted = torch.max(outputs, 1)\n",
    "out = make_grid(inputs, nrow=5)\n",
    "title = 'Predicted: '+' '.join(f'{j}' for j in predicted)+'\\nActual:      '+\\\n",
    "    ' '.join((f'{j}' for j in classes))\n",
    "imshow(out, title = title)\n"
   ]
  }
 ],
 "metadata": {
  "kernelspec": {
   "display_name": "drenv",
   "language": "python",
   "name": "python3"
  },
  "language_info": {
   "codemirror_mode": {
    "name": "ipython",
    "version": 3
   },
   "file_extension": ".py",
   "mimetype": "text/x-python",
   "name": "python",
   "nbconvert_exporter": "python",
   "pygments_lexer": "ipython3",
   "version": "3.10.9"
  },
  "orig_nbformat": 4,
  "vscode": {
   "interpreter": {
    "hash": "13838a53fc594ffa30a34b5031f03b2aa916b9b3ee5245d7f75d470d94945eb7"
   }
  }
 },
 "nbformat": 4,
 "nbformat_minor": 2
}
