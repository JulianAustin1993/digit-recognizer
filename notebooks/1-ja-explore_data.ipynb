{
 "cells": [
  {
   "cell_type": "markdown",
   "metadata": {},
   "source": [
    "# Exploration of MNIST data set"
   ]
  },
  {
   "cell_type": "code",
   "execution_count": null,
   "metadata": {},
   "outputs": [],
   "source": [
    "import os\n",
    "import sys\n",
    "sys.path.append(\"../\")\n",
    "from dotenv import find_dotenv, load_dotenv\n",
    "from torch.utils.data import DataLoader\n",
    "from torchvision.utils import make_grid\n",
    "import torchvision.transforms as T\n",
    "import torch.nn as nn\n",
    "\n",
    "from src.utils import CustomMnistDataset, imshow\n",
    "\n",
    "load_dotenv(find_dotenv())\n",
    "from pathlib import Path\n",
    "DATA_DIR= Path(os.getenv('DATA_DIR'))\n"
   ]
  },
  {
   "cell_type": "code",
   "execution_count": null,
   "metadata": {},
   "outputs": [],
   "source": [
    "\n",
    "train_dataset = CustomMnistDataset(img_dir = DATA_DIR, type='train')\n",
    "test_dataset = CustomMnistDataset(img_dir = DATA_DIR, type='test')\n"
   ]
  },
  {
   "cell_type": "code",
   "execution_count": null,
   "metadata": {},
   "outputs": [],
   "source": [
    "BATCH_SIZE = 5\n",
    "SHUFFLE = True\n",
    "train_dataloader = DataLoader(train_dataset, batch_size = BATCH_SIZE, shuffle = SHUFFLE)\n",
    "test_dataloader = DataLoader(test_dataset, batch_size = BATCH_SIZE, shuffle = SHUFFLE)"
   ]
  },
  {
   "attachments": {},
   "cell_type": "markdown",
   "metadata": {},
   "source": [
    "## Training Examples"
   ]
  },
  {
   "cell_type": "code",
   "execution_count": null,
   "metadata": {},
   "outputs": [],
   "source": [
    "inputs, classes = next(iter(train_dataloader))\n",
    "out = make_grid(inputs, nrow=5)\n",
    "imshow(out, title = [int(x.numpy()) for x in classes])"
   ]
  },
  {
   "attachments": {},
   "cell_type": "markdown",
   "metadata": {},
   "source": [
    "## Test Examples"
   ]
  },
  {
   "cell_type": "code",
   "execution_count": null,
   "metadata": {},
   "outputs": [],
   "source": [
    "inputs = next(iter(test_dataloader))\n",
    "out = make_grid(inputs[0], nrow=5)\n",
    "imshow(out)"
   ]
  },
  {
   "attachments": {},
   "cell_type": "markdown",
   "metadata": {},
   "source": [
    "## Rotations and translations"
   ]
  },
  {
   "cell_type": "code",
   "execution_count": null,
   "metadata": {},
   "outputs": [],
   "source": [
    "augmentation = nn.Sequential(\n",
    "    T.RandomAffine(degrees = 22.5, translate = (0.2, 0.2), scale = (0.5, 1))\n",
    ")\n",
    "aug_dataset = CustomMnistDataset(img_dir = DATA_DIR, type='train', transform=augmentation)\n",
    "aug_dataloader = DataLoader(aug_dataset, batch_size = BATCH_SIZE, shuffle = SHUFFLE)"
   ]
  },
  {
   "cell_type": "code",
   "execution_count": null,
   "metadata": {},
   "outputs": [],
   "source": [
    "inputs, classes = next(iter(aug_dataloader))\n",
    "out = make_grid(inputs, nrow=5)\n",
    "imshow(out, title = [int(x.numpy()) for x in classes])"
   ]
  }
 ],
 "metadata": {
  "kernelspec": {
   "display_name": "drenv",
   "language": "python",
   "name": "python3"
  },
  "language_info": {
   "codemirror_mode": {
    "name": "ipython",
    "version": 3
   },
   "file_extension": ".py",
   "mimetype": "text/x-python",
   "name": "python",
   "nbconvert_exporter": "python",
   "pygments_lexer": "ipython3",
   "version": "3.10.9"
  },
  "orig_nbformat": 4,
  "vscode": {
   "interpreter": {
    "hash": "13838a53fc594ffa30a34b5031f03b2aa916b9b3ee5245d7f75d470d94945eb7"
   }
  }
 },
 "nbformat": 4,
 "nbformat_minor": 2
}
